{
 "cells": [
  {
   "cell_type": "code",
   "execution_count": 4,
   "id": "d0a6eb94",
   "metadata": {},
   "outputs": [
    {
     "name": "stdout",
     "output_type": "stream",
     "text": [
      "https://7ai015-language.cognitiveservices.azure.com/language/analyze-text/jobs/09ca6b38-cb69-44d2-9cde-059fa5b45b74?api-version=2024-11-15-preview\n"
     ]
    }
   ],
   "source": [
    "import requests\n",
    "\n",
    "endpoint = \"https://7ai015-language.cognitiveservices.azure.com/language/analyze-text/jobs?api-version=2024-11-15-preview\"\n",
    "\n",
    "headers = {\n",
    "    \"ocp-apim-subscription-key\":\"41lc9Id2M5igWWCcZ1AnhPxVdMFvDpVyBogW43o6QiddS8Y6QEDJJQQJ99BFACYeBjFXJ3w3AAAaACOGUwUb\"\n",
    "}\n",
    "\n",
    "body = {\n",
    "    \"tasks\": [\n",
    "        {\n",
    "            \"kind\": \"CustomEntityRecognition\",\n",
    "            \"parameters\": {\n",
    "                \"projectName\": \"loan\",\n",
    "                \"deploymentName\": \"loan-v1\",\n",
    "                \"stringIndexType\": \"TextElement_v8\"\n",
    "            }\n",
    "        }\n",
    "    ],\n",
    "    \"displayName\": \"CustomTextPortal_CustomEntityRecognition\",\n",
    "    \"analysisInput\": {\n",
    "        \"documents\": [\n",
    "            {\n",
    "                \"id\": \"document_CustomEntityRecognition\",\n",
    "                \"text\": \"Date 10/18/2019\\n\\nThis is a Loan agreement between the two individuals mentioned below in the parties section of the agreement.\\n\\nI. Parties of agreement\\n\\n- Casey Jensen with a mailing address of 2469 Pennsylvania Avenue, City of New Brunswick, State of New Jersey (the \\\"Borrower\\\")\\n- Hollie Rees with a mailing address of 42 Gladwell Street, City of Memphis, State of Tennessee (the \\\"Lender\\\")\\n\\nII. Amount\\nThe loan amount given by lender to borrower is one hundred ninety-two thousand nine hundred eighty-nine Dollars ($192,989.00) (\\\"The Note\\\")\\n\\nIII. Interest\\nThe Note shall bear interest five percent (5%) compounded annually.\\n\\nIV. Payment\\nThe amount mentioned in this agreement (the \\\"Note\\\"), including the principal and any accrued interest, is\\n\\nV. Payment Terms\\nAny delay in payment is subject to a fine with a flat amount of $50 for every week the payment is delayed.\\nAll payments made by the Borrower shall be go into settling the the accrued interest  and any late fess and then into the payment of the principal amount.\\n\\nVI. Prepayment\\nThe borrower is able to pay back the Note in full at any time, thus terminating this agreement.\\nThe borrower also can make additional payments at any time and this will take of from the amount of the latest installments. \\n\\nVII. Acceleration.\\nIn case of Borrower's failure to pay any part of the principal or interest as and when due under this Note; or Borrower's becoming insolvent or not paying its debts as they become due. The lender has the right to declare an \\\"Event of Acceleration\\\" in which case the Lender has the right to to declare this Note immediately due and payable \\n\\nIX. Succession\\nThis Note shall outlive the borrower and/or the lender in the even of their death. This note shall be binging to any of their successors.\",\n",
    "                \"language\": \"en-us\"\n",
    "            }\n",
    "        ]\n",
    "    }\n",
    "}\n",
    "\n",
    "response = requests.post(endpoint, headers=headers, json=body)\n",
    "\n",
    "url = response.headers.get(\"Operation-Location\")\n",
    "\n",
    "print(url)"
   ]
  },
  {
   "cell_type": "code",
   "execution_count": 5,
   "id": "02695a9e",
   "metadata": {},
   "outputs": [
    {
     "name": "stdout",
     "output_type": "stream",
     "text": [
      "{'jobId': '09ca6b38-cb69-44d2-9cde-059fa5b45b74', 'lastUpdatedDateTime': '2025-06-27T03:37:31Z', 'createdDateTime': '2025-06-27T03:37:29Z', 'expirationDateTime': '2025-06-28T03:37:29Z', 'status': 'succeeded', 'errors': [], 'displayName': 'CustomTextPortal_CustomEntityRecognition', 'tasks': {'completed': 1, 'failed': 0, 'inProgress': 0, 'total': 1, 'items': [{'kind': 'CustomEntityRecognitionLROResults', 'lastUpdateDateTime': '2025-06-27T03:37:31.2948997Z', 'status': 'succeeded', 'results': {'documents': [{'id': 'document_CustomEntityRecognition', 'entities': [{'text': '10/18/2019', 'category': 'Date', 'offset': 5, 'length': 10, 'confidenceScore': 1.0}, {'text': 'Casey Jensen', 'category': 'BorrowerName', 'offset': 155, 'length': 12, 'confidenceScore': 1.0}, {'text': '2469 Pennsylvania Avenue', 'category': 'BorrowerAddress', 'offset': 194, 'length': 24, 'confidenceScore': 0.99}, {'text': 'New Brunswick', 'category': 'BorrowerCity', 'offset': 228, 'length': 13, 'confidenceScore': 0.99}, {'text': 'New Jersey', 'category': 'BorrowerState', 'offset': 252, 'length': 10, 'confidenceScore': 0.85}, {'text': 'Hollie Rees', 'category': 'LenderName', 'offset': 282, 'length': 11, 'confidenceScore': 1.0}, {'text': '42 Gladwell Street', 'category': 'LenderAddress', 'offset': 320, 'length': 18, 'confidenceScore': 1.0}, {'text': 'Memphis', 'category': 'LenderCity', 'offset': 348, 'length': 7, 'confidenceScore': 1.0}, {'text': 'Tennessee', 'category': 'LenderState', 'offset': 366, 'length': 9, 'confidenceScore': 1.0}, {'text': 'one hundred ninety-two thousand nine hundred eighty-nine Dollars', 'category': 'LoanAmountWords', 'offset': 450, 'length': 64, 'confidenceScore': 1.0}, {'text': '$192,989.00', 'category': 'LoanAmountNumbers', 'offset': 516, 'length': 11, 'confidenceScore': 1.0}, {'text': '5%', 'category': 'Interest', 'offset': 600, 'length': 2, 'confidenceScore': 1.0}], 'warnings': []}], 'errors': [], 'projectName': 'loan', 'deploymentName': 'loan-v1'}}]}}\n"
     ]
    }
   ],
   "source": [
    "result_response = requests.get(url, headers=headers)\n",
    "\n",
    "result_response_json = result_response.json()\n",
    "print(result_response_json)"
   ]
  }
 ],
 "metadata": {
  "kernelspec": {
   "display_name": "Python 3",
   "language": "python",
   "name": "python3"
  },
  "language_info": {
   "codemirror_mode": {
    "name": "ipython",
    "version": 3
   },
   "file_extension": ".py",
   "mimetype": "text/x-python",
   "name": "python",
   "nbconvert_exporter": "python",
   "pygments_lexer": "ipython3",
   "version": "3.11.9"
  }
 },
 "nbformat": 4,
 "nbformat_minor": 5
}
